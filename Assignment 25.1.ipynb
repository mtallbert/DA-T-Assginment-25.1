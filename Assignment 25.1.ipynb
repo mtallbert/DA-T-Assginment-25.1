{
 "cells": [
  {
   "cell_type": "markdown",
   "metadata": {},
   "source": [
    "#1\n",
    "Write a Python program using function concept that maps list of words into a list of integers representing the lengths \n",
    "of the corresponding words.\n",
    "Hint: If a list [ ab,cde,erty] is passed on to the python function output should come as [2,3,4]. Here 2,3 and 4 are the \n",
    "    lengths of the words in the list."
   ]
  },
  {
   "cell_type": "code",
   "execution_count": 7,
   "metadata": {},
   "outputs": [
    {
     "name": "stdout",
     "output_type": "stream",
     "text": [
      "Enter a list of words: two, three, thirteen, twelve\n"
     ]
    },
    {
     "data": {
      "text/plain": [
       "[4, 6, 9, 6]"
      ]
     },
     "execution_count": 7,
     "metadata": {},
     "output_type": "execute_result"
    }
   ],
   "source": [
    "def word_len(my_words):\n",
    "    len_words=[len(i) for i in my_word.split()]\n",
    "    return len_words\n",
    "\n",
    "my_word =input(\"Enter a list of words: \")\n",
    "word_len(my_word)"
   ]
  },
  {
   "cell_type": "markdown",
   "metadata": {},
   "source": [
    "#2\n",
    "Write a Python function which takes a character (i.e. a string of length 1) and returns True if it is a vowel, False otherwise."
   ]
  },
  {
   "cell_type": "code",
   "execution_count": 8,
   "metadata": {},
   "outputs": [
    {
     "name": "stdout",
     "output_type": "stream",
     "text": [
      "Enter a letter: o\n"
     ]
    },
    {
     "data": {
      "text/plain": [
       "True"
      ]
     },
     "execution_count": 8,
     "metadata": {},
     "output_type": "execute_result"
    }
   ],
   "source": [
    "def vowels_check(x):\n",
    "    my_word =['a', 'e', 'i', 'o', 'u','A','E','I','O','U']\n",
    "    if len(x) == 1 and x.isalpha() == True:\n",
    "        x=x\n",
    "    if x in my_word:\n",
    "        return True\n",
    "    else:\n",
    "        return False\n",
    "            \n",
    "        \n",
    "my_word =input(\"Enter a letter: \")\n",
    "vowels_check(my_word)"
   ]
  },
  {
   "cell_type": "code",
   "execution_count": null,
   "metadata": {},
   "outputs": [],
   "source": []
  }
 ],
 "metadata": {
  "kernelspec": {
   "display_name": "Python 3",
   "language": "python",
   "name": "python3"
  },
  "language_info": {
   "codemirror_mode": {
    "name": "ipython",
    "version": 3
   },
   "file_extension": ".py",
   "mimetype": "text/x-python",
   "name": "python",
   "nbconvert_exporter": "python",
   "pygments_lexer": "ipython3",
   "version": "3.7.0"
  }
 },
 "nbformat": 4,
 "nbformat_minor": 2
}
